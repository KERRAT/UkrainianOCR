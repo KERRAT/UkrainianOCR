{
 "cells": [
  {
   "cell_type": "code",
   "execution_count": 2,
   "metadata": {},
   "outputs": [],
   "source": [
    "from tensorflow.keras.models import load_model\n",
    "\n",
    "model = load_model('Ukrainian_OCR_extended_Resnet_with_digits_with_correct_fonts.h5')"
   ]
  },
  {
   "cell_type": "code",
   "execution_count": 3,
   "metadata": {},
   "outputs": [
    {
     "name": "stderr",
     "output_type": "stream",
     "text": [
      "WARNING:absl:Found untraced functions such as _jit_compiled_convolution_op, _jit_compiled_convolution_op, _jit_compiled_convolution_op, _jit_compiled_convolution_op, _jit_compiled_convolution_op while saving (showing 5 of 31). These functions will not be directly callable after loading.\n"
     ]
    },
    {
     "name": "stdout",
     "output_type": "stream",
     "text": [
      "INFO:tensorflow:Assets written to: C:\\Users\\vvlad\\AppData\\Local\\Temp\\tmpztk1b9fd\\assets\n"
     ]
    },
    {
     "name": "stderr",
     "output_type": "stream",
     "text": [
      "INFO:tensorflow:Assets written to: C:\\Users\\vvlad\\AppData\\Local\\Temp\\tmpztk1b9fd\\assets\n"
     ]
    }
   ],
   "source": [
    "import tensorflow as tf\n",
    "\n",
    "converter = tf.lite.TFLiteConverter.from_keras_model(model)\n",
    "tflite_model = converter.convert()"
   ]
  },
  {
   "cell_type": "code",
   "execution_count": 4,
   "metadata": {},
   "outputs": [
    {
     "data": {
      "text/plain": [
       "1368832"
      ]
     },
     "execution_count": 4,
     "metadata": {},
     "output_type": "execute_result"
    }
   ],
   "source": [
    "open('Ukrainian_OCR.tflite', 'wb').write(tflite_model)"
   ]
  },
  {
   "cell_type": "code",
   "execution_count": 5,
   "metadata": {},
   "outputs": [],
   "source": [
    "import numpy as np\n",
    "\n",
    "def load_dataset(datasetPath):\n",
    "\n",
    "  # List for storing data\n",
    "  data = []\n",
    "  \n",
    "  # List for storing labels\n",
    "  labels = []\n",
    "  \n",
    "  for row in open(datasetPath): #Openfile and start reading each row\n",
    "    #Split the row at every comma\n",
    "    row = row.split(\",\")\n",
    "    \n",
    "    #row[0] contains label\n",
    "    label = int(row[0])\n",
    "    \n",
    "    #Other all collumns contains pixel values make a saperate array for that\n",
    "    image = np.array([int(x) for x in row[1:]], dtype=\"uint8\")\n",
    "    \n",
    "    #Reshaping image to 28 x 28 pixels\n",
    "    image = image.reshape((28, 28))\n",
    "    \n",
    "    #append image to data\n",
    "    data.append(image)\n",
    "    \n",
    "    #append label to labels\n",
    "    labels.append(label)\n",
    "    \n",
    "  #Converting data to numpy array of type float32\n",
    "  data = np.array(data, dtype='float32')\n",
    "  \n",
    "  #Converting labels to type int\n",
    "  labels = np.array(labels, dtype=\"int\")\n",
    "  \n",
    "  return (data, labels)"
   ]
  },
  {
   "cell_type": "code",
   "execution_count": 6,
   "metadata": {},
   "outputs": [],
   "source": [
    "def get_batch_predictions(interpreter, input, output, batch):\n",
    "  interpreter.set_tensor(input[0]['index'], batch)\n",
    "  interpreter.invoke()\n",
    "  predictions = interpreter.get_tensor(output[0]['index'])\n",
    "  return predictions"
   ]
  },
  {
   "cell_type": "code",
   "execution_count": 7,
   "metadata": {},
   "outputs": [],
   "source": [
    "(Data, Labels) = load_dataset(\"../data/uaset_extended_with_digits_fixed.csv\")"
   ]
  },
  {
   "cell_type": "code",
   "execution_count": 8,
   "metadata": {},
   "outputs": [],
   "source": [
    "import cv2\n",
    "\n",
    "# Each image in the A-Z and MNIST digts datasets are 28x28 pixels;\n",
    "# However, the architecture we're using is designed for 32x32 images,\n",
    "# So we need to resize them to 32x32\n",
    "\n",
    "Data = [cv2.resize(image, (32, 32)) for image in Data]\n",
    "Data = np.array(Data, dtype=\"float32\")\n",
    "\n",
    "# add a channel dimension to every image in the dataset and scale the\n",
    "# pixel intensities of the images from [0, 255] down to [0, 1]\n",
    "\n",
    "Data = np.expand_dims(Data, axis=-1)\n",
    "Data /= 255.0"
   ]
  },
  {
   "cell_type": "code",
   "execution_count": 9,
   "metadata": {},
   "outputs": [],
   "source": [
    "from sklearn.model_selection import train_test_split\n",
    "from sklearn.preprocessing import LabelBinarizer\n",
    "\n",
    "le = LabelBinarizer()\n",
    "Labels = le.fit_transform(Labels)\n",
    "\n",
    "counts = Labels.sum(axis=0)\n",
    "\n",
    "# account for skew in the labeled data\n",
    "classTotals = Labels.sum(axis=0)\n",
    "classWeight = {}\n",
    "\n",
    "# loop over all classes and calculate the class weight\n",
    "for i in range(0, len(classTotals)):\n",
    "  classWeight[i] = classTotals.max() / classTotals[i]\n",
    "  \n",
    "(trainX, testX, trainY, testY) = train_test_split(Data,\n",
    "\tLabels, test_size=0.95, stratify=Labels, random_state=42)"
   ]
  },
  {
   "cell_type": "code",
   "execution_count": 10,
   "metadata": {},
   "outputs": [],
   "source": [
    "# Load the TensorFlow Lite model from file\n",
    "interpreter = tf.lite.Interpreter(model_path=\"Ukrainian_OCR.tflite\")\n",
    "interpreter.allocate_tensors()\n"
   ]
  },
  {
   "cell_type": "code",
   "execution_count": 11,
   "metadata": {},
   "outputs": [],
   "source": [
    "# Get input and output details\n",
    "input_details = interpreter.get_input_details()\n",
    "output_details = interpreter.get_output_details()"
   ]
  },
  {
   "cell_type": "code",
   "execution_count": 12,
   "metadata": {},
   "outputs": [],
   "source": [
    "BS = 1"
   ]
  },
  {
   "cell_type": "code",
   "execution_count": 13,
   "metadata": {},
   "outputs": [
    {
     "name": "stdout",
     "output_type": "stream",
     "text": [
      "              precision    recall  f1-score   support\n",
      "\n",
      "           А       0.96      0.92      0.94       145\n",
      "           Б       0.95      0.97      0.96       146\n",
      "           В       0.93      0.97      0.95       145\n",
      "           Г       0.97      0.95      0.96       145\n",
      "           Ґ       0.92      0.97      0.94       146\n",
      "           Д       0.93      0.97      0.95       145\n",
      "           Е       0.94      0.96      0.95       146\n",
      "           Є       0.85      1.00      0.92       146\n",
      "           Ж       0.91      0.99      0.94       145\n",
      "           З       0.89      0.62      0.73       145\n",
      "           И       0.93      0.97      0.95       146\n",
      "           І       0.90      0.95      0.92       145\n",
      "           Ї       0.93      0.98      0.96       146\n",
      "           Й       0.93      0.97      0.95       145\n",
      "           К       0.95      0.96      0.95       145\n",
      "           Л       0.95      0.94      0.94       146\n",
      "           М       0.96      0.95      0.96       145\n",
      "           Н       0.95      0.95      0.95       146\n",
      "           О       0.69      0.95      0.80       146\n",
      "           П       0.97      0.90      0.94       145\n",
      "           Р       0.93      0.94      0.93       145\n",
      "           С       0.90      0.98      0.94       145\n",
      "           Т       0.90      0.98      0.94       145\n",
      "           У       0.85      0.92      0.89       145\n",
      "           Ф       0.96      0.90      0.93       145\n",
      "           Х       0.91      0.94      0.93       145\n",
      "           Ц       0.92      0.99      0.95       146\n",
      "           Ч       0.94      0.95      0.95       145\n",
      "           Ш       0.93      0.98      0.95       146\n",
      "           Щ       0.94      0.95      0.94       146\n",
      "           Ь       0.92      0.99      0.95       146\n",
      "           Ю       0.94      0.96      0.95       146\n",
      "           Я       0.90      0.98      0.94       146\n",
      "           а       0.96      0.94      0.95       145\n",
      "           б       0.97      0.94      0.96       145\n",
      "           в       0.98      0.91      0.94       145\n",
      "           г       0.93      0.97      0.95       145\n",
      "           ґ       0.97      0.90      0.93       146\n",
      "           д       0.93      0.93      0.93       146\n",
      "           е       0.95      0.93      0.94       146\n",
      "           є       1.00      0.83      0.91       145\n",
      "           ж       0.98      0.90      0.94       146\n",
      "           з       0.95      0.93      0.94       145\n",
      "           и       0.97      0.92      0.94       146\n",
      "           і       0.95      0.94      0.94       145\n",
      "           ї       0.97      0.93      0.95       145\n",
      "           й       0.96      0.92      0.94       146\n",
      "           к       0.96      0.94      0.95       145\n",
      "           л       0.93      0.95      0.94       146\n",
      "           м       0.95      0.96      0.96       145\n",
      "           н       0.94      0.94      0.94       145\n",
      "           о       0.93      0.91      0.92       145\n",
      "           п       0.91      0.97      0.94       146\n",
      "           р       0.94      0.92      0.93       145\n",
      "           с       0.98      0.90      0.94       145\n",
      "           т       0.98      0.90      0.94       145\n",
      "           у       0.92      0.83      0.87       145\n",
      "           ф       0.91      0.96      0.93       146\n",
      "           х       0.94      0.91      0.92       145\n",
      "           ц       0.99      0.91      0.95       145\n",
      "           ч       0.95      0.95      0.95       146\n",
      "           ш       0.96      0.92      0.94       145\n",
      "           щ       0.95      0.93      0.94       145\n",
      "           ь       0.99      0.91      0.95       145\n",
      "           ю       0.96      0.94      0.95       145\n",
      "           я       0.98      0.90      0.94       145\n",
      "           1       0.99      0.96      0.98       146\n",
      "           2       1.00      1.00      1.00       145\n",
      "           3       0.72      0.95      0.81       146\n",
      "           4       1.00      0.99      1.00       146\n",
      "           5       1.00      1.00      1.00       145\n",
      "           6       1.00      1.00      1.00       145\n",
      "           7       1.00      1.00      1.00       145\n",
      "           8       0.98      1.00      0.99       145\n",
      "           9       1.00      1.00      1.00       146\n",
      "           0       0.94      0.60      0.73       146\n",
      "           №       0.98      0.96      0.97       145\n",
      "           %       1.00      0.99      1.00       145\n",
      "           @       1.00      0.97      0.98       145\n",
      "           ,       1.00      1.00      1.00       145\n",
      "           .       1.00      1.00      1.00       145\n",
      "           ?       1.00      1.00      1.00       145\n",
      "           :       1.00      1.00      1.00       145\n",
      "           ;       1.00      1.00      1.00       145\n",
      "           \"       0.99      0.99      0.99       145\n",
      "           !       1.00      0.99      1.00       145\n",
      "           (       1.00      0.99      0.99       145\n",
      "           )       1.00      0.99      1.00       146\n",
      "           -       0.99      1.00      1.00       146\n",
      "           '       0.95      0.99      0.97       145\n",
      "\n",
      "    accuracy                           0.95     13082\n",
      "   macro avg       0.95      0.95      0.95     13082\n",
      "weighted avg       0.95      0.95      0.95     13082\n",
      "\n"
     ]
    }
   ],
   "source": [
    "from sklearn.metrics import classification_report\n",
    "\n",
    "# define the list of label names\n",
    "\n",
    "labelNames = \"АБВГҐДЕЄЖЗИІЇЙКЛМНОПРСТУФХЦЧШЩЬЮЯабвгґдеєжзиіїйклмнопрстуфхцчшщьюя1234567890№%@,.?:;\\\"!()-'\"\n",
    "labelNames = [l for l in labelNames]\n",
    "\n",
    "# Make predictions on test data\n",
    "predictions = []\n",
    "for i in range(0, len(testX), BS):\n",
    "    batch = testX[i:i + BS]\n",
    "    batch_pre = get_batch_predictions(interpreter, input_details, output_details, batch)\n",
    "    predictions.append(batch_pre)\n",
    "\n",
    "predictions = np.vstack(predictions)\n",
    "print(classification_report(testY.argmax(axis=1),\n",
    "\tpredictions.argmax(axis=1), target_names=labelNames))\n"
   ]
  },
  {
   "cell_type": "code",
   "execution_count": 18,
   "metadata": {},
   "outputs": [],
   "source": [
    "from imutils import build_montages\n",
    "from PIL import Image, ImageDraw, ImageFont\n",
    "import numpy as np\n",
    "\n",
    "output = \"\"\n",
    "images = []\n",
    "# randomly select a few testing characters\n",
    "\n",
    "for i in np.random.choice(np.arange(0, len(testY)), size=(66,)):\n",
    "    \n",
    "    batch = testX[i][np.newaxis, ...]\n",
    "    batch_pre = get_batch_predictions(interpreter, input_details, output_details, batch)\n",
    "    prediction = batch_pre.argmax(axis=1)\n",
    "    \n",
    "    label = labelNames[prediction[0]]\n",
    "    output += label\n",
    "    image = (testX[i] * 255).astype(\"uint8\")\n",
    "    color = (0, 255, 0)\n",
    "    color = (0, 0, 255)\n",
    "    image = cv2.merge([image] * 3)\n",
    "    image = cv2.resize(image, (96, 96), interpolation=cv2.INTER_LINEAR)\n",
    "    img_pil = Image.fromarray(image)\n",
    "    draw = ImageDraw.Draw(img_pil)\n",
    "    font = ImageFont.truetype(\"arial.ttf\", size=34)\n",
    "    draw.text((5, 20), label, font=font, fill=color)\n",
    "    image = np.array(img_pil)\n",
    "    images.append(image)\n",
    "  \n",
    "montage = build_montages(images, (96, 96), (7, 7))[0]\n",
    "cv2.imshow('q',montage)\n",
    "cv2.waitKey(0)\n",
    "cv2.destroyAllWindows()"
   ]
  },
  {
   "cell_type": "code",
   "execution_count": 19,
   "metadata": {},
   "outputs": [
    {
     "data": {
      "text/plain": [
       "'!Фгш-тЄЬопгпТУ.-в!ШПО\"ЇчЖй7ТВ(ОПгіі1ьґк8:\\'кВЯцт-ЇШМВх№фкьиТіфшю(Ри'"
      ]
     },
     "execution_count": 19,
     "metadata": {},
     "output_type": "execute_result"
    }
   ],
   "source": [
    "output"
   ]
  }
 ],
 "metadata": {
  "kernelspec": {
   "display_name": "DeepLearning",
   "language": "python",
   "name": "python3"
  },
  "language_info": {
   "codemirror_mode": {
    "name": "ipython",
    "version": 3
   },
   "file_extension": ".py",
   "mimetype": "text/x-python",
   "name": "python",
   "nbconvert_exporter": "python",
   "pygments_lexer": "ipython3",
   "version": "3.8.16"
  },
  "orig_nbformat": 4
 },
 "nbformat": 4,
 "nbformat_minor": 2
}
